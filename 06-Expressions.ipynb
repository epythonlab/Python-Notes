{
 "cells": [
  {
   "cell_type": "markdown",
   "metadata": {},
   "source": [
    "<center>\n",
    "    <img src=\"images/logo.jpg\" width=\"150\" alt=\"EPYTHON LAB logo\"  />\n",
    "</center>\n",
    "<hr>"
   ]
  },
  {
   "cell_type": "markdown",
   "metadata": {},
   "source": [
    "<h2 id='expressions' align='center'>Expressions in Python</h2>"
   ]
  },
  {
   "cell_type": "markdown",
   "metadata": {},
   "source": [
    "<h2>Objectives</h2>\n",
    "In this lab you will get to know about:\n",
    "\n",
    "- What are expressions in Python\n",
    "- How to construct expressions."
   ]
  },
  {
   "cell_type": "markdown",
   "metadata": {},
   "source": [
    "<p>Expressions are representations of value. They are different from statement in the fact that statements do something while expressions are representation of value. For example any string is also an expressions since it represents the value of the string as well.</p>\n",
    "\n",
    "<p>Python has some advanced constructs through which you can represent values and hence these constructs are also called <strong>expressions</strong>.</p>"
   ]
  },
  {
   "cell_type": "markdown",
   "metadata": {},
   "source": [
    "<p>Expressions in Python can include operations among compatible types (e.g., integers and floats). For example, basic arithmetic operations like adding multiple numbers, subtracting, division etc:</p>\n",
    "\n",
    "Consider the expression <code> 3 + 2 * 5 = 13 </code>. Here, <code>4, 2 and 5</code> are called <strong>operands</strong> and <code>+ and *</code> are called <strong>operators</strong>."
   ]
  },
  {
   "cell_type": "markdown",
   "metadata": {},
   "source": [
    "<h2>How to create an expressions</h2>\n",
    "\n",
    "Python expressions only contain identifiers, literals, and operators. So, what are these?\n",
    "\n",
    "<p><strong>Identifiers</strong>: Any name that is used to define a class, function, variable module, or object is an identifier.</p>\n",
    "\n",
    "<p><strong>Literals:</strong> These are language-independent terms in Python and should exist independently in any programming language. In Python, there are the string literals, byte literals, integer literals, floating point literals, and imaginary literals.</p>\n",
    "\n",
    "<strong>Operators:</strong> In Python you can implement the following operations using the corresponding tokens."
   ]
  },
  {
   "cell_type": "markdown",
   "metadata": {},
   "source": [
    "Let's do some examples\n",
    "1. <p>What is the value of <code>x</code> where <code>x = 3 + 2 * 2</code></p>\n",
    "2. <p>What is the value of <code>y</code> where <code>y = (3 + 2) * 2</code>?</p>\n",
    "3. <p>What is the value of <code>z</code> where <code>z = x + y * x**2 - x % 2 // 2 * (2 * x + 3 * y) / 2</code></p>\n"
   ]
  },
  {
   "cell_type": "code",
   "execution_count": 10,
   "metadata": {},
   "outputs": [
    {
     "name": "stdout",
     "output_type": "stream",
     "text": [
      "7\n"
     ]
    }
   ],
   "source": [
    "# Write your code here and run the cell to see the output\n",
    "x  = 3 + 2 * 2\n",
    "print(x)"
   ]
  },
  {
   "cell_type": "code",
   "execution_count": 11,
   "metadata": {},
   "outputs": [
    {
     "name": "stdout",
     "output_type": "stream",
     "text": [
      "10\n"
     ]
    }
   ],
   "source": [
    "y  = (3 + 2) * 2\n",
    "print(y)"
   ]
  },
  {
   "cell_type": "code",
   "execution_count": 12,
   "metadata": {},
   "outputs": [
    {
     "name": "stdout",
     "output_type": "stream",
     "text": [
      "497.0\n"
     ]
    }
   ],
   "source": [
    "# z = x + y * x**2 - x % 2 // 2 * (2 * x + 3 * y) / 2\n",
    "# z = 7 + 10 * 7**2 - 7 % 2 // 2 * (2 * 7 + 3 * 10) / 2\n",
    "# z  = 7 + 10 * 7**2 - 7 % 2 // 2 * (14 + 30) / 2\n",
    "# z = 7 + 10 * 49 - 1//2 * 44/2\n",
    "# z = 7 + 490 - 0 * 22.0\n",
    "# z = 7 + 490 - 0.0\n",
    "# z= 497.0\n",
    "z = x + y * x**2 - x % 2 // 2 * (2 * x + 3 * y) / 2\n",
    "print(z)"
   ]
  },
  {
   "cell_type": "markdown",
   "metadata": {},
   "source": [
    "<p>It's a good practice to use meaningful variable names, so you and others can read the code and understand it more easily:</p>\n",
    "\n",
    "<p>Let we have three albums with each of the album have <code>43, 42, 57</code> minutes length respectively. </p>\n",
    " <p>1. Calculate the total  length of the albums in minutes?</p>"
   ]
  },
  {
   "cell_type": "code",
   "execution_count": 13,
   "metadata": {},
   "outputs": [
    {
     "name": "stdout",
     "output_type": "stream",
     "text": [
      "142\n"
     ]
    }
   ],
   "source": [
    "# Write your code here and run the cell to see the output\n",
    "total_min = 43 + 42 + 57\n",
    "print(total_min)"
   ]
  },
  {
   "cell_type": "markdown",
   "metadata": {},
   "source": [
    "2. What is the total hours of the albums?"
   ]
  },
  {
   "cell_type": "code",
   "execution_count": 14,
   "metadata": {},
   "outputs": [
    {
     "name": "stdout",
     "output_type": "stream",
     "text": [
      "2.3666666666666667\n"
     ]
    }
   ],
   "source": [
    "# Write your code here and run the cell to see the output\n",
    "total_hours = total_min / 60\n",
    "print(total_hours)"
   ]
  },
  {
   "cell_type": "markdown",
   "metadata": {},
   "source": [
    "<hr>\n",
    "\n",
    "*Copyright &copy; 2021 EPYTHON LAB.  All rights reserved.*"
   ]
  }
 ],
 "metadata": {
  "kernelspec": {
   "display_name": "Python 3",
   "language": "python",
   "name": "python3"
  },
  "language_info": {
   "codemirror_mode": {
    "name": "ipython",
    "version": 3
   },
   "file_extension": ".py",
   "mimetype": "text/x-python",
   "name": "python",
   "nbconvert_exporter": "python",
   "pygments_lexer": "ipython3",
   "version": "3.8.3"
  }
 },
 "nbformat": 4,
 "nbformat_minor": 4
}
