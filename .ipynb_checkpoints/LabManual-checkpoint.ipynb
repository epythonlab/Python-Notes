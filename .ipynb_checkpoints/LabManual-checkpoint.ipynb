{
 "cells": [
  {
   "cell_type": "markdown",
   "metadata": {},
   "source": [
    "<div class=\"alert alert-success alertsuccess\" style=\"margin-top: 20px; font-size:2em;\">\n",
    "Python Programming Lab Manuals\n",
    "</div>"
   ]
  },
  {
   "cell_type": "markdown",
   "metadata": {},
   "source": [
    "<center>\n",
    "    <img src=\"images/logo.jpg\" width=\"150\" alt=\"EPYTHON LAB logo\"  />\n",
    "</center>\n",
    "<hr>"
   ]
  },
  {
   "cell_type": "markdown",
   "metadata": {},
   "source": [
    "<p> This lab manual is designed for absolute beginners that emphasizes the methodology of Python programming from an object-oriented perspective and software engineering principles. It allows you to develop the ability to understand and analysis programming problems and design and document suitable solutions and to implement reliable and robust solutions using contemporary program design methods.</p>\n",
    "\n",
    "This training manual is divided into three modules:-\n",
    "    \n",
    "\n",
    "### Module 1: Python programming Basics\n",
    "\n",
    "   - Introduction to Python\n",
    "   - Variables and Names\n",
    "   - Type convention(Types of objects)\n",
    "   - Errors in Python\n",
    "   - Operators and Operator Preceedence\n",
    "   - Strings:- String operations\n",
    "   - Functions: Function scope and Paramaters\n",
    "   - Statements(If/else, if/elif/else)\n",
    "   - Loops(For, while)\n",
    "   - Lamda Function\n",
    "   - I/O\n",
    "   - Libraries\n",
    "   - Error Handling\n",
    "    \n",
    "Upon completion of module one we will solve problems and algorithms at hackerrank and you can be able to increase your problem solving skills and  rank at hackerrank.\n",
    "\n",
    "### Module 2: Data Structure\n",
    "   - Lists\n",
    "   - Dictionary\n",
    "   - Tuples\n",
    "   - sets\n",
    "   - array(NumPy)\n",
    "    \n",
    "Upon completion of module one and two we will combine the two module s together and solve problems and algorithms at hackerrank and you can be able to increase your problem solving skills and rank at hackerrank.\n",
    "\n",
    "### Module 3: Object Oriented Programming\n",
    "    \n",
    "Upon successful completion of this lab, you will be able to:\n",
    "\n",
    "- understand and explain Python programming\n",
    "- Successfully code, debug and run programs with appropriate development environment \n",
    "- work on more advanced programs written in Python\n",
    "- Understand and develop a solution for real-life problems\n",
    "\n",
    "\n",
    "\n",
    "After successfully completing this training, you can further study:-\n",
    "\n",
    "- Data science\n",
    "- Machine Learning\n",
    "- Web Development\n",
    "- AI \n",
    "- Software Engineering\n",
    "- Data Engineer\n",
    "- Data Analytics\n",
    "- Deep Learning"
   ]
  },
  {
   "cell_type": "markdown",
   "metadata": {},
   "source": [
    "### Note that this training manual will be updated any time as neccessarly."
   ]
  },
  {
   "cell_type": "markdown",
   "metadata": {},
   "source": [
    "<hr>\n",
    "\n",
    "*Copyright &copy; 2021 EPYTHON LAB.  All rights reserved.*"
   ]
  }
 ],
 "metadata": {
  "kernelspec": {
   "display_name": "Python 3",
   "language": "python",
   "name": "python3"
  },
  "language_info": {
   "codemirror_mode": {
    "name": "ipython",
    "version": 3
   },
   "file_extension": ".py",
   "mimetype": "text/x-python",
   "name": "python",
   "nbconvert_exporter": "python",
   "pygments_lexer": "ipython3",
   "version": "3.8.3"
  }
 },
 "nbformat": 4,
 "nbformat_minor": 4
}
